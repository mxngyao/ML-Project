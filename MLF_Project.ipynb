{
 "cells": [
  {
   "cell_type": "code",
   "execution_count": 45,
   "id": "0c4f29f0",
   "metadata": {},
   "outputs": [],
   "source": [
    "import pandas as pd\n",
    "from sklearn.preprocessing import StandardScaler\n",
    "from sklearn.linear_model import LogisticRegression\n",
    "from sklearn.ensemble import RandomForestClassifier\n",
    "from sklearn.neighbors import KNeighborsClassifier\n",
    "from sklearn.model_selection import train_test_split\n",
    "from sklearn.metrics import accuracy_score\n",
    "from sklearn.metrics import confusion_matrix\n",
    "from sklearn.model_selection import GridSearchCV\n",
    "import matplotlib.pyplot as plt\n",
    "from sklearn import tree\n",
    "import numpy as np\n",
    "import seaborn as sns\n",
    "from sklearn.preprocessing import OneHotEncoder"
   ]
  },
  {
   "cell_type": "code",
   "execution_count": 46,
   "id": "8996df1c",
   "metadata": {},
   "outputs": [
    {
     "name": "stdout",
     "output_type": "stream",
     "text": [
      "   id  gender   age  hypertension  heart_disease ever_married      work_type  \\\n",
      "0   1    Male  67.0             0              1          Yes        Private   \n",
      "1   2  Female  61.0             0              0          Yes  Self-employed   \n",
      "2   3    Male  80.0             0              1          Yes        Private   \n",
      "3   4  Female  49.0             0              0          Yes        Private   \n",
      "4   5  Female  79.0             1              0          Yes  Self-employed   \n",
      "\n",
      "  Residence_type  avg_glucose_level   bmi   smoking_status  stroke  \n",
      "0          Urban             228.69  36.6  formerly smoked       1  \n",
      "1          Rural             202.21   NaN     never smoked       1  \n",
      "2          Rural             105.92  32.5     never smoked       1  \n",
      "3          Urban             171.23  34.4           smokes       1  \n",
      "4          Rural             174.12  24.0     never smoked       1  \n"
     ]
    }
   ],
   "source": [
    "#Using appropriate library to read the CSV file\n",
    "df = pd.read_csv(\"healthcare.csv\", header=0)\n",
    "print(df.head())"
   ]
  },
  {
   "cell_type": "code",
   "execution_count": 47,
   "id": "e17dbaad",
   "metadata": {
    "scrolled": true
   },
   "outputs": [
    {
     "name": "stdout",
     "output_type": "stream",
     "text": [
      "        id  gender   age  hypertension  heart_disease ever_married  \\\n",
      "0        1    Male  67.0             0              1          Yes   \n",
      "2        3    Male  80.0             0              1          Yes   \n",
      "3        4  Female  49.0             0              0          Yes   \n",
      "4        5  Female  79.0             1              0          Yes   \n",
      "5        6    Male  81.0             0              0          Yes   \n",
      "...    ...     ...   ...           ...            ...          ...   \n",
      "6122  6123  Female  68.0             1              1          Yes   \n",
      "6123  6124    Male  57.0             0              0          Yes   \n",
      "6124  6125  Female  14.0             0              0           No   \n",
      "6125  6126  Female  75.0             0              0          Yes   \n",
      "6127  6128  Female  78.0             0              0          Yes   \n",
      "\n",
      "          work_type Residence_type  avg_glucose_level   bmi   smoking_status  \\\n",
      "0           Private          Urban             228.69  36.6  formerly smoked   \n",
      "2           Private          Rural             105.92  32.5     never smoked   \n",
      "3           Private          Urban             171.23  34.4           smokes   \n",
      "4     Self-employed          Rural             174.12  24.0     never smoked   \n",
      "5           Private          Urban             186.21  29.0  formerly smoked   \n",
      "...             ...            ...                ...   ...              ...   \n",
      "6122        Private          Urban             247.51  40.5  formerly smoked   \n",
      "6123        Private          Rural              84.96  36.7          Unknown   \n",
      "6124       children          Rural              57.93  30.9          Unknown   \n",
      "6125  Self-employed          Rural              78.80  29.3  formerly smoked   \n",
      "6127        Private          Rural              78.81  19.6          Unknown   \n",
      "\n",
      "      stroke  \n",
      "0          1  \n",
      "2          1  \n",
      "3          1  \n",
      "4          1  \n",
      "5          1  \n",
      "...      ...  \n",
      "6122       1  \n",
      "6123       1  \n",
      "6124       1  \n",
      "6125       1  \n",
      "6127       1  \n",
      "\n",
      "[5762 rows x 12 columns]\n"
     ]
    }
   ],
   "source": [
    "#Removes rows with NaN\n",
    "df = df.dropna()\n",
    "#Removes duplicate rows\n",
    "df = df.drop_duplicates()\n",
    "#Removing negative values from the age column\n",
    "df['age'] = df['age'].where(df['age']>=0)\n",
    "\n",
    "print(df)"
   ]
  },
  {
   "cell_type": "code",
   "execution_count": 48,
   "id": "4af08438",
   "metadata": {
    "scrolled": true
   },
   "outputs": [
    {
     "name": "stdout",
     "output_type": "stream",
     "text": [
      "        id   age  hypertension  heart_disease  avg_glucose_level   bmi  \\\n",
      "0        1  67.0             0              1             228.69  36.6   \n",
      "2        3  80.0             0              1             105.92  32.5   \n",
      "3        4  49.0             0              0             171.23  34.4   \n",
      "4        5  79.0             1              0             174.12  24.0   \n",
      "5        6  81.0             0              0             186.21  29.0   \n",
      "...    ...   ...           ...            ...                ...   ...   \n",
      "6122  6123  68.0             1              1             247.51  40.5   \n",
      "6123  6124  57.0             0              0              84.96  36.7   \n",
      "6124  6125  14.0             0              0              57.93  30.9   \n",
      "6125  6126  75.0             0              0              78.80  29.3   \n",
      "6127  6128  78.0             0              0              78.81  19.6   \n",
      "\n",
      "      stroke  ever_married_No  ever_married_Yes  gender_Female  ...  \\\n",
      "0          1                0                 1              0  ...   \n",
      "2          1                0                 1              0  ...   \n",
      "3          1                0                 1              1  ...   \n",
      "4          1                0                 1              1  ...   \n",
      "5          1                0                 1              0  ...   \n",
      "...      ...              ...               ...            ...  ...   \n",
      "6122       1                0                 1              1  ...   \n",
      "6123       1                0                 1              0  ...   \n",
      "6124       1                1                 0              1  ...   \n",
      "6125       1                0                 1              1  ...   \n",
      "6127       1                0                 1              1  ...   \n",
      "\n",
      "      work_type_Never_worked  work_type_Private  work_type_Self-employed  \\\n",
      "0                          0                  1                        0   \n",
      "2                          0                  1                        0   \n",
      "3                          0                  1                        0   \n",
      "4                          0                  0                        1   \n",
      "5                          0                  1                        0   \n",
      "...                      ...                ...                      ...   \n",
      "6122                       0                  1                        0   \n",
      "6123                       0                  1                        0   \n",
      "6124                       0                  0                        0   \n",
      "6125                       0                  0                        1   \n",
      "6127                       0                  1                        0   \n",
      "\n",
      "      work_type_children  Residence_type_Rural  Residence_type_Urban  \\\n",
      "0                      0                     0                     1   \n",
      "2                      0                     1                     0   \n",
      "3                      0                     0                     1   \n",
      "4                      0                     1                     0   \n",
      "5                      0                     0                     1   \n",
      "...                  ...                   ...                   ...   \n",
      "6122                   0                     0                     1   \n",
      "6123                   0                     1                     0   \n",
      "6124                   1                     1                     0   \n",
      "6125                   0                     1                     0   \n",
      "6127                   0                     1                     0   \n",
      "\n",
      "      smoking_status_Unknown  smoking_status_formerly smoked  \\\n",
      "0                          0                               1   \n",
      "2                          0                               0   \n",
      "3                          0                               0   \n",
      "4                          0                               0   \n",
      "5                          0                               1   \n",
      "...                      ...                             ...   \n",
      "6122                       0                               1   \n",
      "6123                       1                               0   \n",
      "6124                       1                               0   \n",
      "6125                       0                               1   \n",
      "6127                       1                               0   \n",
      "\n",
      "      smoking_status_never smoked  smoking_status_smokes  \n",
      "0                               0                      0  \n",
      "2                               1                      0  \n",
      "3                               0                      1  \n",
      "4                               1                      0  \n",
      "5                               0                      0  \n",
      "...                           ...                    ...  \n",
      "6122                            0                      0  \n",
      "6123                            0                      0  \n",
      "6124                            0                      0  \n",
      "6125                            0                      0  \n",
      "6127                            0                      0  \n",
      "\n",
      "[5762 rows x 23 columns]\n"
     ]
    }
   ],
   "source": [
    "#Doing one-hot encoding (convert categorical value to numerical value)\n",
    "df = pd.get_dummies(df, columns = ['ever_married', 'gender', 'work_type', 'Residence_type', 'smoking_status'])\n",
    "\n",
    "print(df)"
   ]
  },
  {
   "cell_type": "code",
   "execution_count": 49,
   "id": "0729c2c5",
   "metadata": {
    "scrolled": false
   },
   "outputs": [
    {
     "name": "stdout",
     "output_type": "stream",
     "text": [
      "      gender_Female  gender_Male  gender_Other  work_type_children  \\\n",
      "0                 0            1             0                   0   \n",
      "2                 0            1             0                   0   \n",
      "3                 1            0             0                   0   \n",
      "4                 1            0             0                   0   \n",
      "5                 0            1             0                   0   \n",
      "...             ...          ...           ...                 ...   \n",
      "6122              1            0             0                   0   \n",
      "6123              0            1             0                   0   \n",
      "6124              1            0             0                   1   \n",
      "6125              1            0             0                   0   \n",
      "6127              1            0             0                   0   \n",
      "\n",
      "      work_type_Private  work_type_Never_worked  work_type_Self-employed  \\\n",
      "0                     1                       0                        0   \n",
      "2                     1                       0                        0   \n",
      "3                     1                       0                        0   \n",
      "4                     0                       0                        1   \n",
      "5                     1                       0                        0   \n",
      "...                 ...                     ...                      ...   \n",
      "6122                  1                       0                        0   \n",
      "6123                  1                       0                        0   \n",
      "6124                  0                       0                        0   \n",
      "6125                  0                       0                        1   \n",
      "6127                  1                       0                        0   \n",
      "\n",
      "      work_type_Govt_job  Residence_type_Urban  Residence_type_Rural  \\\n",
      "0                      0                     1                     0   \n",
      "2                      0                     0                     1   \n",
      "3                      0                     1                     0   \n",
      "4                      0                     0                     1   \n",
      "5                      0                     1                     0   \n",
      "...                  ...                   ...                   ...   \n",
      "6122                   0                     1                     0   \n",
      "6123                   0                     0                     1   \n",
      "6124                   0                     0                     1   \n",
      "6125                   0                     0                     1   \n",
      "6127                   0                     0                     1   \n",
      "\n",
      "      smoking_status_smokes  smoking_status_never smoked  \\\n",
      "0                         0                            0   \n",
      "2                         0                            1   \n",
      "3                         1                            0   \n",
      "4                         0                            1   \n",
      "5                         0                            0   \n",
      "...                     ...                          ...   \n",
      "6122                      0                            0   \n",
      "6123                      0                            0   \n",
      "6124                      0                            0   \n",
      "6125                      0                            0   \n",
      "6127                      0                            0   \n",
      "\n",
      "      smoking_status_Unknown  smoking_status_formerly smoked   age  \\\n",
      "0                          0                               1  67.0   \n",
      "2                          0                               0  80.0   \n",
      "3                          0                               0  49.0   \n",
      "4                          0                               0  79.0   \n",
      "5                          0                               1  81.0   \n",
      "...                      ...                             ...   ...   \n",
      "6122                       0                               1  68.0   \n",
      "6123                       1                               0  57.0   \n",
      "6124                       1                               0  14.0   \n",
      "6125                       0                               1  75.0   \n",
      "6127                       1                               0  78.0   \n",
      "\n",
      "      hypertension  heart_disease  avg_glucose_level   bmi  \n",
      "0                0              1             228.69  36.6  \n",
      "2                0              1             105.92  32.5  \n",
      "3                0              0             171.23  34.4  \n",
      "4                1              0             174.12  24.0  \n",
      "5                0              0             186.21  29.0  \n",
      "...            ...            ...                ...   ...  \n",
      "6122             1              1             247.51  40.5  \n",
      "6123             0              0              84.96  36.7  \n",
      "6124             0              0              57.93  30.9  \n",
      "6125             0              0              78.80  29.3  \n",
      "6127             0              0              78.81  19.6  \n",
      "\n",
      "[5762 rows x 19 columns]\n"
     ]
    }
   ],
   "source": [
    "#Setting features columns\n",
    "features_df = df[['gender_Female', 'gender_Male', 'gender_Other', 'work_type_children', 'work_type_Private', \n",
    "                  'work_type_Never_worked', 'work_type_Self-employed', \n",
    "                  'work_type_Govt_job', 'Residence_type_Urban', 'Residence_type_Rural', 'smoking_status_smokes', \n",
    "                  'smoking_status_never smoked', 'smoking_status_Unknown', 'smoking_status_formerly smoked', \n",
    "                  'age', 'hypertension', 'heart_disease', 'avg_glucose_level', 'bmi']]\n",
    "print(features_df)"
   ]
  },
  {
   "cell_type": "code",
   "execution_count": 50,
   "id": "09032244",
   "metadata": {},
   "outputs": [
    {
     "name": "stdout",
     "output_type": "stream",
     "text": [
      "      stroke\n",
      "0          1\n",
      "2          1\n",
      "3          1\n",
      "4          1\n",
      "5          1\n",
      "...      ...\n",
      "6122       1\n",
      "6123       1\n",
      "6124       1\n",
      "6125       1\n",
      "6127       1\n",
      "\n",
      "[5762 rows x 1 columns]\n"
     ]
    }
   ],
   "source": [
    "#Setting target column\n",
    "target_df = df[['stroke']]\n",
    "print(target_df)"
   ]
  },
  {
   "cell_type": "code",
   "execution_count": 51,
   "id": "bfd6bc40",
   "metadata": {
    "scrolled": true
   },
   "outputs": [
    {
     "name": "stdout",
     "output_type": "stream",
     "text": [
      "id                                0\n",
      "age                               0\n",
      "hypertension                      0\n",
      "heart_disease                     0\n",
      "avg_glucose_level                 0\n",
      "bmi                               0\n",
      "stroke                            0\n",
      "ever_married_No                   0\n",
      "ever_married_Yes                  0\n",
      "gender_Female                     0\n",
      "gender_Male                       0\n",
      "gender_Other                      0\n",
      "work_type_Govt_job                0\n",
      "work_type_Never_worked            0\n",
      "work_type_Private                 0\n",
      "work_type_Self-employed           0\n",
      "work_type_children                0\n",
      "Residence_type_Rural              0\n",
      "Residence_type_Urban              0\n",
      "smoking_status_Unknown            0\n",
      "smoking_status_formerly smoked    0\n",
      "smoking_status_never smoked       0\n",
      "smoking_status_smokes             0\n",
      "dtype: int64\n"
     ]
    }
   ],
   "source": [
    "#Making sure theres no Null values before training\n",
    "df = df.dropna()\n",
    "null_counts = df.isnull().sum()\n",
    "print(null_counts)"
   ]
  },
  {
   "cell_type": "code",
   "execution_count": 52,
   "id": "25dda796",
   "metadata": {},
   "outputs": [],
   "source": [
    "#Splitting training data and test data from dataset\n",
    "y_values = df['stroke']\n",
    "x_values = df[['gender_Female', 'gender_Male', 'gender_Other', 'work_type_children',\n",
    "               'work_type_Private', 'work_type_Never_worked', 'work_type_Self-employed', \n",
    "               'work_type_Govt_job', 'Residence_type_Urban', 'Residence_type_Rural', 'smoking_status_smokes', \n",
    "               'smoking_status_never smoked', 'smoking_status_Unknown', 'smoking_status_formerly smoked', \n",
    "               'age', 'hypertension', 'heart_disease', 'avg_glucose_level', 'bmi']]\n",
    "x_train, x_test, y_train, y_test = train_test_split(x_values, y_values, test_size=0.3, random_state=100)\n",
    "\n",
    "#Standardising the data\n",
    "scaler = StandardScaler()\n",
    "x_train_scale = scaler.fit_transform(x_train)\n",
    "x_test_scale = scaler.transform(x_test)"
   ]
  },
  {
   "cell_type": "code",
   "execution_count": 53,
   "id": "e7dd2896",
   "metadata": {
    "scrolled": false
   },
   "outputs": [
    {
     "data": {
      "text/html": [
       "<style>#sk-container-id-7 {color: black;background-color: white;}#sk-container-id-7 pre{padding: 0;}#sk-container-id-7 div.sk-toggleable {background-color: white;}#sk-container-id-7 label.sk-toggleable__label {cursor: pointer;display: block;width: 100%;margin-bottom: 0;padding: 0.3em;box-sizing: border-box;text-align: center;}#sk-container-id-7 label.sk-toggleable__label-arrow:before {content: \"▸\";float: left;margin-right: 0.25em;color: #696969;}#sk-container-id-7 label.sk-toggleable__label-arrow:hover:before {color: black;}#sk-container-id-7 div.sk-estimator:hover label.sk-toggleable__label-arrow:before {color: black;}#sk-container-id-7 div.sk-toggleable__content {max-height: 0;max-width: 0;overflow: hidden;text-align: left;background-color: #f0f8ff;}#sk-container-id-7 div.sk-toggleable__content pre {margin: 0.2em;color: black;border-radius: 0.25em;background-color: #f0f8ff;}#sk-container-id-7 input.sk-toggleable__control:checked~div.sk-toggleable__content {max-height: 200px;max-width: 100%;overflow: auto;}#sk-container-id-7 input.sk-toggleable__control:checked~label.sk-toggleable__label-arrow:before {content: \"▾\";}#sk-container-id-7 div.sk-estimator input.sk-toggleable__control:checked~label.sk-toggleable__label {background-color: #d4ebff;}#sk-container-id-7 div.sk-label input.sk-toggleable__control:checked~label.sk-toggleable__label {background-color: #d4ebff;}#sk-container-id-7 input.sk-hidden--visually {border: 0;clip: rect(1px 1px 1px 1px);clip: rect(1px, 1px, 1px, 1px);height: 1px;margin: -1px;overflow: hidden;padding: 0;position: absolute;width: 1px;}#sk-container-id-7 div.sk-estimator {font-family: monospace;background-color: #f0f8ff;border: 1px dotted black;border-radius: 0.25em;box-sizing: border-box;margin-bottom: 0.5em;}#sk-container-id-7 div.sk-estimator:hover {background-color: #d4ebff;}#sk-container-id-7 div.sk-parallel-item::after {content: \"\";width: 100%;border-bottom: 1px solid gray;flex-grow: 1;}#sk-container-id-7 div.sk-label:hover label.sk-toggleable__label {background-color: #d4ebff;}#sk-container-id-7 div.sk-serial::before {content: \"\";position: absolute;border-left: 1px solid gray;box-sizing: border-box;top: 0;bottom: 0;left: 50%;z-index: 0;}#sk-container-id-7 div.sk-serial {display: flex;flex-direction: column;align-items: center;background-color: white;padding-right: 0.2em;padding-left: 0.2em;position: relative;}#sk-container-id-7 div.sk-item {position: relative;z-index: 1;}#sk-container-id-7 div.sk-parallel {display: flex;align-items: stretch;justify-content: center;background-color: white;position: relative;}#sk-container-id-7 div.sk-item::before, #sk-container-id-7 div.sk-parallel-item::before {content: \"\";position: absolute;border-left: 1px solid gray;box-sizing: border-box;top: 0;bottom: 0;left: 50%;z-index: -1;}#sk-container-id-7 div.sk-parallel-item {display: flex;flex-direction: column;z-index: 1;position: relative;background-color: white;}#sk-container-id-7 div.sk-parallel-item:first-child::after {align-self: flex-end;width: 50%;}#sk-container-id-7 div.sk-parallel-item:last-child::after {align-self: flex-start;width: 50%;}#sk-container-id-7 div.sk-parallel-item:only-child::after {width: 0;}#sk-container-id-7 div.sk-dashed-wrapped {border: 1px dashed gray;margin: 0 0.4em 0.5em 0.4em;box-sizing: border-box;padding-bottom: 0.4em;background-color: white;}#sk-container-id-7 div.sk-label label {font-family: monospace;font-weight: bold;display: inline-block;line-height: 1.2em;}#sk-container-id-7 div.sk-label-container {text-align: center;}#sk-container-id-7 div.sk-container {/* jupyter's `normalize.less` sets `[hidden] { display: none; }` but bootstrap.min.css set `[hidden] { display: none !important; }` so we also need the `!important` here to be able to override the default hidden behavior on the sphinx rendered scikit-learn.org. See: https://github.com/scikit-learn/scikit-learn/issues/21755 */display: inline-block !important;position: relative;}#sk-container-id-7 div.sk-text-repr-fallback {display: none;}</style><div id=\"sk-container-id-7\" class=\"sk-top-container\"><div class=\"sk-text-repr-fallback\"><pre>LogisticRegression()</pre><b>In a Jupyter environment, please rerun this cell to show the HTML representation or trust the notebook. <br />On GitHub, the HTML representation is unable to render, please try loading this page with nbviewer.org.</b></div><div class=\"sk-container\" hidden><div class=\"sk-item\"><div class=\"sk-estimator sk-toggleable\"><input class=\"sk-toggleable__control sk-hidden--visually\" id=\"sk-estimator-id-7\" type=\"checkbox\" checked><label for=\"sk-estimator-id-7\" class=\"sk-toggleable__label sk-toggleable__label-arrow\">LogisticRegression</label><div class=\"sk-toggleable__content\"><pre>LogisticRegression()</pre></div></div></div></div></div>"
      ],
      "text/plain": [
       "LogisticRegression()"
      ]
     },
     "execution_count": 53,
     "metadata": {},
     "output_type": "execute_result"
    }
   ],
   "source": [
    "#train logistic regression model\n",
    "model = LogisticRegression()\n",
    "model.fit(x_train_scale, y_train)"
   ]
  },
  {
   "cell_type": "code",
   "execution_count": 54,
   "id": "a2adeb83",
   "metadata": {},
   "outputs": [],
   "source": [
    "#Make predictions on testing set\n",
    "y_pred = model.predict(x_test_scale)"
   ]
  },
  {
   "cell_type": "code",
   "execution_count": 55,
   "id": "d204af43",
   "metadata": {
    "scrolled": false
   },
   "outputs": [
    {
     "name": "stdout",
     "output_type": "stream",
     "text": [
      "accuracy 0.8353623188405798\n",
      "Confusion matrix:\n",
      " [[1364   43]\n",
      " [ 241   77]]\n"
     ]
    }
   ],
   "source": [
    "#calulate accuracy and confusion matrix\n",
    "accuracy = accuracy_score (y_test, y_pred)\n",
    "conf_matrix = confusion_matrix(y_test, y_pred)\n",
    "\n",
    "print(\"accuracy\", accuracy)\n",
    "print(\"Confusion matrix:\\n\", conf_matrix) "
   ]
  },
  {
   "cell_type": "code",
   "execution_count": 56,
   "id": "5c65cc65",
   "metadata": {
    "scrolled": false
   },
   "outputs": [
    {
     "data": {
      "text/plain": [
       "<Axes: xlabel='Predicted', ylabel='Actual'>"
      ]
     },
     "execution_count": 56,
     "metadata": {},
     "output_type": "execute_result"
    },
    {
     "data": {
      "image/png": "[encoded data removed]",
      "text/plain": [
       "<Figure size 640x480 with 2 Axes>"
      ]
     },
     "metadata": {},
     "output_type": "display_data"
    }
   ],
   "source": [
    "#Plot heatmap for the confusion matrix\n",
    "df1 = pd.DataFrame()\n",
    "\n",
    "# Create new columns within dataframe\n",
    "df1['Actual'] = y_test\n",
    "df1['Predicted'] = y_pred\n",
    "\n",
    "# Use pd.crosstab to count the frequency of the classes in actual and predicted\n",
    "freq = pd.crosstab(df1.Actual,df1.Predicted)\n",
    "\n",
    "# Use sns.heatmap to plot the heatmap\n",
    "sns.heatmap(freq,annot=True,fmt=\"d\")"
   ]
  },
  {
   "cell_type": "code",
   "execution_count": 57,
   "id": "e1bec5f7",
   "metadata": {},
   "outputs": [
    {
     "name": "stdout",
     "output_type": "stream",
     "text": [
      "Best Parameters: {'max_depth': None, 'min_samples_leaf': 1, 'min_samples_split': 2, 'n_estimators': 150}\n",
      "Accuracy: 0.9866666666666667\n"
     ]
    }
   ],
   "source": [
    "# Define the parameter grid for hyperparameter tuning\n",
    "param_grid = {\n",
    "    'n_estimators': [50, 100, 150],  \n",
    "    'max_depth': [None, 5, 10],  \n",
    "    'min_samples_split': [2, 5, 10],  \n",
    "    'min_samples_leaf': [ 1, 2, 4],\n",
    "}\n",
    "# Create a random forest classifier\n",
    "rf = RandomForestClassifier()\n",
    "# Perform grid search with cross-validation\n",
    "grid_search = GridSearchCV(rf, param_grid, cv=5)\n",
    "grid_search.fit(x_train_scale, y_train)\n",
    "# Get the best model and its hyperparameters\n",
    "best_rf = grid_search.best_estimator_\n",
    "best_params = grid_search.best_params_\n",
    "# Evaluate the best model on the testing set\n",
    "y_predictions = best_rf.predict(x_test_scale)\n",
    "accuracy = accuracy_score(y_test, y_predictions)\n",
    "\n",
    "print(\"Best Parameters:\", best_params)\n",
    "print(\"Accuracy:\", accuracy)\n"
   ]
  },
  {
   "cell_type": "code",
   "execution_count": 58,
   "id": "ce86eb66",
   "metadata": {},
   "outputs": [
    {
     "data": {
      "text/html": [
       "<style>#sk-container-id-8 {color: black;background-color: white;}#sk-container-id-8 pre{padding: 0;}#sk-container-id-8 div.sk-toggleable {background-color: white;}#sk-container-id-8 label.sk-toggleable__label {cursor: pointer;display: block;width: 100%;margin-bottom: 0;padding: 0.3em;box-sizing: border-box;text-align: center;}#sk-container-id-8 label.sk-toggleable__label-arrow:before {content: \"▸\";float: left;margin-right: 0.25em;color: #696969;}#sk-container-id-8 label.sk-toggleable__label-arrow:hover:before {color: black;}#sk-container-id-8 div.sk-estimator:hover label.sk-toggleable__label-arrow:before {color: black;}#sk-container-id-8 div.sk-toggleable__content {max-height: 0;max-width: 0;overflow: hidden;text-align: left;background-color: #f0f8ff;}#sk-container-id-8 div.sk-toggleable__content pre {margin: 0.2em;color: black;border-radius: 0.25em;background-color: #f0f8ff;}#sk-container-id-8 input.sk-toggleable__control:checked~div.sk-toggleable__content {max-height: 200px;max-width: 100%;overflow: auto;}#sk-container-id-8 input.sk-toggleable__control:checked~label.sk-toggleable__label-arrow:before {content: \"▾\";}#sk-container-id-8 div.sk-estimator input.sk-toggleable__control:checked~label.sk-toggleable__label {background-color: #d4ebff;}#sk-container-id-8 div.sk-label input.sk-toggleable__control:checked~label.sk-toggleable__label {background-color: #d4ebff;}#sk-container-id-8 input.sk-hidden--visually {border: 0;clip: rect(1px 1px 1px 1px);clip: rect(1px, 1px, 1px, 1px);height: 1px;margin: -1px;overflow: hidden;padding: 0;position: absolute;width: 1px;}#sk-container-id-8 div.sk-estimator {font-family: monospace;background-color: #f0f8ff;border: 1px dotted black;border-radius: 0.25em;box-sizing: border-box;margin-bottom: 0.5em;}#sk-container-id-8 div.sk-estimator:hover {background-color: #d4ebff;}#sk-container-id-8 div.sk-parallel-item::after {content: \"\";width: 100%;border-bottom: 1px solid gray;flex-grow: 1;}#sk-container-id-8 div.sk-label:hover label.sk-toggleable__label {background-color: #d4ebff;}#sk-container-id-8 div.sk-serial::before {content: \"\";position: absolute;border-left: 1px solid gray;box-sizing: border-box;top: 0;bottom: 0;left: 50%;z-index: 0;}#sk-container-id-8 div.sk-serial {display: flex;flex-direction: column;align-items: center;background-color: white;padding-right: 0.2em;padding-left: 0.2em;position: relative;}#sk-container-id-8 div.sk-item {position: relative;z-index: 1;}#sk-container-id-8 div.sk-parallel {display: flex;align-items: stretch;justify-content: center;background-color: white;position: relative;}#sk-container-id-8 div.sk-item::before, #sk-container-id-8 div.sk-parallel-item::before {content: \"\";position: absolute;border-left: 1px solid gray;box-sizing: border-box;top: 0;bottom: 0;left: 50%;z-index: -1;}#sk-container-id-8 div.sk-parallel-item {display: flex;flex-direction: column;z-index: 1;position: relative;background-color: white;}#sk-container-id-8 div.sk-parallel-item:first-child::after {align-self: flex-end;width: 50%;}#sk-container-id-8 div.sk-parallel-item:last-child::after {align-self: flex-start;width: 50%;}#sk-container-id-8 div.sk-parallel-item:only-child::after {width: 0;}#sk-container-id-8 div.sk-dashed-wrapped {border: 1px dashed gray;margin: 0 0.4em 0.5em 0.4em;box-sizing: border-box;padding-bottom: 0.4em;background-color: white;}#sk-container-id-8 div.sk-label label {font-family: monospace;font-weight: bold;display: inline-block;line-height: 1.2em;}#sk-container-id-8 div.sk-label-container {text-align: center;}#sk-container-id-8 div.sk-container {/* jupyter's `normalize.less` sets `[hidden] { display: none; }` but bootstrap.min.css set `[hidden] { display: none !important; }` so we also need the `!important` here to be able to override the default hidden behavior on the sphinx rendered scikit-learn.org. See: https://github.com/scikit-learn/scikit-learn/issues/21755 */display: inline-block !important;position: relative;}#sk-container-id-8 div.sk-text-repr-fallback {display: none;}</style><div id=\"sk-container-id-8\" class=\"sk-top-container\"><div class=\"sk-text-repr-fallback\"><pre>RandomForestClassifier(n_estimators=50)</pre><b>In a Jupyter environment, please rerun this cell to show the HTML representation or trust the notebook. <br />On GitHub, the HTML representation is unable to render, please try loading this page with nbviewer.org.</b></div><div class=\"sk-container\" hidden><div class=\"sk-item\"><div class=\"sk-estimator sk-toggleable\"><input class=\"sk-toggleable__control sk-hidden--visually\" id=\"sk-estimator-id-8\" type=\"checkbox\" checked><label for=\"sk-estimator-id-8\" class=\"sk-toggleable__label sk-toggleable__label-arrow\">RandomForestClassifier</label><div class=\"sk-toggleable__content\"><pre>RandomForestClassifier(n_estimators=50)</pre></div></div></div></div></div>"
      ],
      "text/plain": [
       "RandomForestClassifier(n_estimators=50)"
      ]
     },
     "execution_count": 58,
     "metadata": {},
     "output_type": "execute_result"
    }
   ],
   "source": [
    "# Training of random forest classifier model\n",
    "rf = RandomForestClassifier(max_depth=None, n_estimators=50, min_samples_leaf=1, min_samples_split=2 )\n",
    "rf.fit(x_train_scale,y_train)"
   ]
  },
  {
   "cell_type": "code",
   "execution_count": 59,
   "id": "9b8cbdcd",
   "metadata": {},
   "outputs": [],
   "source": [
    "#Make predictions on testing set\n",
    "y_predict = rf.predict(x_test_scale)"
   ]
  },
  {
   "cell_type": "code",
   "execution_count": 60,
   "id": "00db31cc",
   "metadata": {
    "scrolled": false
   },
   "outputs": [
    {
     "name": "stdout",
     "output_type": "stream",
     "text": [
      "accuracy 0.9860869565217392\n",
      "Confusion matrix:\n",
      " [[1383   24]\n",
      " [   0  318]]\n"
     ]
    }
   ],
   "source": [
    "#calulate accuracy and confusion matrix\n",
    "accuracy = accuracy_score (y_test, y_predict)\n",
    "conf_matrix = confusion_matrix(y_test, y_predict)\n",
    "\n",
    "print(\"accuracy\", accuracy)\n",
    "print(\"Confusion matrix:\\n\", conf_matrix) "
   ]
  },
  {
   "cell_type": "code",
   "execution_count": 61,
   "id": "92a2f0e3",
   "metadata": {},
   "outputs": [
    {
     "data": {
      "text/plain": [
       "<Axes: xlabel='Predicted', ylabel='Actual'>"
      ]
     },
     "execution_count": 61,
     "metadata": {},
     "output_type": "execute_result"
    },
    {
     "data": {
      "image/png": "[encoded data removed]",
      "text/plain": [
       "<Figure size 640x480 with 2 Axes>"
      ]
     },
     "metadata": {},
     "output_type": "display_data"
    }
   ],
   "source": [
    "#Plot heatmap for the confusion matrix\n",
    "df2 = pd.DataFrame()\n",
    "\n",
    "# Create new columns within dataframe\n",
    "df2['Actual'] = y_test\n",
    "df2['Predicted'] = y_predict\n",
    "\n",
    "# Use pd.crosstab to count the frequency of the classes in actual and predicted\n",
    "freq = pd.crosstab(df2.Actual,df2.Predicted)\n",
    "\n",
    "# Use sns.heatmap to plot the heatmap\n",
    "sns.heatmap(freq,annot=True,fmt=\"d\")"
   ]
  },
  {
   "cell_type": "code",
   "execution_count": 62,
   "id": "c001fd4d",
   "metadata": {},
   "outputs": [
    {
     "name": "stdout",
     "output_type": "stream",
     "text": [
      "[0.8156521739130435, 0.8249275362318841, 0.8284057971014492, 0.8423188405797102, 0.8486956521739131, 0.8614492753623189, 0.8718840579710145, 0.8852173913043478, 0.888695652173913]\n"
     ]
    },
    {
     "data": {
      "image/png": "[encoded data removed]",
      "text/plain": [
       "<Figure size 640x480 with 1 Axes>"
      ]
     },
     "metadata": {},
     "output_type": "display_data"
    }
   ],
   "source": [
    "# Create an empty list to store the accuracy and the best tested parameter for each decision tree\n",
    "accuracy = []\n",
    "depth = []\n",
    "\n",
    "# Use ii to cycle through values 1 to 9. This will be the max_depth value for the decision tree. \n",
    "for ii in range(1,10):\n",
    "    # Set max_depth to ii\n",
    "    dt = tree.DecisionTreeClassifier(max_depth=ii)\n",
    "    # Training or fitting the model with the data\n",
    "    dt.fit(x_train_scale,y_train)\n",
    "    # .score provides the accuracy of the model based on the testing data. Store the accuracy into the list.\n",
    "    accuracy.append(dt.score(x_test_scale,y_test))\n",
    "    # Append the max_depth values to a list\n",
    "    depth.append(ii)\n",
    "\n",
    "print(accuracy)\n",
    "plt.scatter(depth,accuracy)\n",
    "plt.xlabel('max depth')\n",
    "plt.ylabel('Accuracy')\n",
    "plt.show();"
   ]
  },
  {
   "cell_type": "code",
   "execution_count": 63,
   "id": "09a9d400",
   "metadata": {},
   "outputs": [
    {
     "data": {
      "text/html": [
       "<style>#sk-container-id-9 {color: black;background-color: white;}#sk-container-id-9 pre{padding: 0;}#sk-container-id-9 div.sk-toggleable {background-color: white;}#sk-container-id-9 label.sk-toggleable__label {cursor: pointer;display: block;width: 100%;margin-bottom: 0;padding: 0.3em;box-sizing: border-box;text-align: center;}#sk-container-id-9 label.sk-toggleable__label-arrow:before {content: \"▸\";float: left;margin-right: 0.25em;color: #696969;}#sk-container-id-9 label.sk-toggleable__label-arrow:hover:before {color: black;}#sk-container-id-9 div.sk-estimator:hover label.sk-toggleable__label-arrow:before {color: black;}#sk-container-id-9 div.sk-toggleable__content {max-height: 0;max-width: 0;overflow: hidden;text-align: left;background-color: #f0f8ff;}#sk-container-id-9 div.sk-toggleable__content pre {margin: 0.2em;color: black;border-radius: 0.25em;background-color: #f0f8ff;}#sk-container-id-9 input.sk-toggleable__control:checked~div.sk-toggleable__content {max-height: 200px;max-width: 100%;overflow: auto;}#sk-container-id-9 input.sk-toggleable__control:checked~label.sk-toggleable__label-arrow:before {content: \"▾\";}#sk-container-id-9 div.sk-estimator input.sk-toggleable__control:checked~label.sk-toggleable__label {background-color: #d4ebff;}#sk-container-id-9 div.sk-label input.sk-toggleable__control:checked~label.sk-toggleable__label {background-color: #d4ebff;}#sk-container-id-9 input.sk-hidden--visually {border: 0;clip: rect(1px 1px 1px 1px);clip: rect(1px, 1px, 1px, 1px);height: 1px;margin: -1px;overflow: hidden;padding: 0;position: absolute;width: 1px;}#sk-container-id-9 div.sk-estimator {font-family: monospace;background-color: #f0f8ff;border: 1px dotted black;border-radius: 0.25em;box-sizing: border-box;margin-bottom: 0.5em;}#sk-container-id-9 div.sk-estimator:hover {background-color: #d4ebff;}#sk-container-id-9 div.sk-parallel-item::after {content: \"\";width: 100%;border-bottom: 1px solid gray;flex-grow: 1;}#sk-container-id-9 div.sk-label:hover label.sk-toggleable__label {background-color: #d4ebff;}#sk-container-id-9 div.sk-serial::before {content: \"\";position: absolute;border-left: 1px solid gray;box-sizing: border-box;top: 0;bottom: 0;left: 50%;z-index: 0;}#sk-container-id-9 div.sk-serial {display: flex;flex-direction: column;align-items: center;background-color: white;padding-right: 0.2em;padding-left: 0.2em;position: relative;}#sk-container-id-9 div.sk-item {position: relative;z-index: 1;}#sk-container-id-9 div.sk-parallel {display: flex;align-items: stretch;justify-content: center;background-color: white;position: relative;}#sk-container-id-9 div.sk-item::before, #sk-container-id-9 div.sk-parallel-item::before {content: \"\";position: absolute;border-left: 1px solid gray;box-sizing: border-box;top: 0;bottom: 0;left: 50%;z-index: -1;}#sk-container-id-9 div.sk-parallel-item {display: flex;flex-direction: column;z-index: 1;position: relative;background-color: white;}#sk-container-id-9 div.sk-parallel-item:first-child::after {align-self: flex-end;width: 50%;}#sk-container-id-9 div.sk-parallel-item:last-child::after {align-self: flex-start;width: 50%;}#sk-container-id-9 div.sk-parallel-item:only-child::after {width: 0;}#sk-container-id-9 div.sk-dashed-wrapped {border: 1px dashed gray;margin: 0 0.4em 0.5em 0.4em;box-sizing: border-box;padding-bottom: 0.4em;background-color: white;}#sk-container-id-9 div.sk-label label {font-family: monospace;font-weight: bold;display: inline-block;line-height: 1.2em;}#sk-container-id-9 div.sk-label-container {text-align: center;}#sk-container-id-9 div.sk-container {/* jupyter's `normalize.less` sets `[hidden] { display: none; }` but bootstrap.min.css set `[hidden] { display: none !important; }` so we also need the `!important` here to be able to override the default hidden behavior on the sphinx rendered scikit-learn.org. See: https://github.com/scikit-learn/scikit-learn/issues/21755 */display: inline-block !important;position: relative;}#sk-container-id-9 div.sk-text-repr-fallback {display: none;}</style><div id=\"sk-container-id-9\" class=\"sk-top-container\"><div class=\"sk-text-repr-fallback\"><pre>DecisionTreeClassifier(max_depth=5)</pre><b>In a Jupyter environment, please rerun this cell to show the HTML representation or trust the notebook. <br />On GitHub, the HTML representation is unable to render, please try loading this page with nbviewer.org.</b></div><div class=\"sk-container\" hidden><div class=\"sk-item\"><div class=\"sk-estimator sk-toggleable\"><input class=\"sk-toggleable__control sk-hidden--visually\" id=\"sk-estimator-id-9\" type=\"checkbox\" checked><label for=\"sk-estimator-id-9\" class=\"sk-toggleable__label sk-toggleable__label-arrow\">DecisionTreeClassifier</label><div class=\"sk-toggleable__content\"><pre>DecisionTreeClassifier(max_depth=5)</pre></div></div></div></div></div>"
      ],
      "text/plain": [
       "DecisionTreeClassifier(max_depth=5)"
      ]
     },
     "execution_count": 63,
     "metadata": {},
     "output_type": "execute_result"
    }
   ],
   "source": [
    "#Training decision tree model\n",
    "dt = tree.DecisionTreeClassifier(max_depth=5)\n",
    "dt.fit(x_train_scale,y_train)"
   ]
  },
  {
   "cell_type": "code",
   "execution_count": 64,
   "id": "8dcf6130",
   "metadata": {},
   "outputs": [],
   "source": [
    "#Making prediction on testing set\n",
    "y_prediction = dt.predict(x_test_scale)"
   ]
  },
  {
   "cell_type": "code",
   "execution_count": 65,
   "id": "f6989cf1",
   "metadata": {},
   "outputs": [
    {
     "name": "stdout",
     "output_type": "stream",
     "text": [
      "accuracy 0.8486956521739131\n",
      "Confusion matrix:\n",
      " [[1288  119]\n",
      " [ 142  176]]\n"
     ]
    }
   ],
   "source": [
    "#calulate accuracy and confusion matrix\n",
    "accuracy = accuracy_score (y_test, y_prediction)\n",
    "conf_matrix = confusion_matrix(y_test, y_prediction)\n",
    "\n",
    "print(\"accuracy\", accuracy)\n",
    "print(\"Confusion matrix:\\n\", conf_matrix)"
   ]
  },
  {
   "cell_type": "code",
   "execution_count": 66,
   "id": "0a016996",
   "metadata": {},
   "outputs": [
    {
     "data": {
      "text/plain": [
       "<Axes: xlabel='Predicted', ylabel='Actual'>"
      ]
     },
     "execution_count": 66,
     "metadata": {},
     "output_type": "execute_result"
    },
    {
     "data": {
      "image/png": "[encoded data removed]",
      "text/plain": [
       "<Figure size 640x480 with 2 Axes>"
      ]
     },
     "metadata": {},
     "output_type": "display_data"
    }
   ],
   "source": [
    "# Create new dataframe\n",
    "df3 = pd.DataFrame()\n",
    "\n",
    "# Create new columns within dataframe\n",
    "df3['Actual'] = y_test\n",
    "df3['Predicted'] = y_prediction\n",
    "\n",
    "# Use pd.crosstab to count the frequency of the classes in actual and predicted\n",
    "freq = pd.crosstab(df3.Actual,df3.Predicted)\n",
    "\n",
    "# Use sns.heatmap to plot the heatmap\n",
    "sns.heatmap(freq,annot=True,fmt=\"d\")"
   ]
  },
  {
   "cell_type": "code",
   "execution_count": 67,
   "id": "f589ca2f",
   "metadata": {},
   "outputs": [
    {
     "name": "stdout",
     "output_type": "stream",
     "text": [
      "[0.9588405797101449, 0.9478260869565217, 0.9118840579710145, 0.8857971014492754, 0.8579710144927536, 0.8342028985507246, 0.8168115942028985, 0.8301449275362319, 0.8278260869565217, 0.8481159420289855, 0.8486956521739131, 0.8452173913043478, 0.8486956521739131, 0.8452173913043478, 0.8446376811594203]\n"
     ]
    },
    {
     "data": {
      "image/png": "[encoded data removed]",
      "text/plain": [
       "<Figure size 640x480 with 1 Axes>"
      ]
     },
     "metadata": {},
     "output_type": "display_data"
    }
   ],
   "source": [
    "# Create an empty list to store the accuracy and number of neighbours for each KNN model\n",
    "accuracy = []\n",
    "num_neigh = []\n",
    "\n",
    "# Use ii to cycle through values 1 to 15. This will be the number of neighbours for the KNN classifier. \n",
    "for ii in range(1,16):\n",
    "    # Set number of neighbours to ii\n",
    "    KNN = KNeighborsClassifier(n_neighbors=ii)\n",
    "    # Training or fitting the model with the data\n",
    "    KNN.fit(x_train_scale,y_train)\n",
    "    # .score provides the accuracy of the model based on the testing data. Store the accuracy into the list.\n",
    "    accuracy.append(KNN.score(x_test_scale,y_test))\n",
    "    # Append the number of neighbours to a list\n",
    "    num_neigh.append(ii)\n",
    "\n",
    "print(accuracy)\n",
    "plt.scatter(num_neigh,accuracy)\n",
    "plt.xlabel('Number of neighbours')\n",
    "plt.ylabel('Accuracy')\n",
    "plt.show();"
   ]
  },
  {
   "cell_type": "code",
   "execution_count": 68,
   "id": "3a21045c",
   "metadata": {},
   "outputs": [
    {
     "data": {
      "text/html": [
       "<style>#sk-container-id-10 {color: black;background-color: white;}#sk-container-id-10 pre{padding: 0;}#sk-container-id-10 div.sk-toggleable {background-color: white;}#sk-container-id-10 label.sk-toggleable__label {cursor: pointer;display: block;width: 100%;margin-bottom: 0;padding: 0.3em;box-sizing: border-box;text-align: center;}#sk-container-id-10 label.sk-toggleable__label-arrow:before {content: \"▸\";float: left;margin-right: 0.25em;color: #696969;}#sk-container-id-10 label.sk-toggleable__label-arrow:hover:before {color: black;}#sk-container-id-10 div.sk-estimator:hover label.sk-toggleable__label-arrow:before {color: black;}#sk-container-id-10 div.sk-toggleable__content {max-height: 0;max-width: 0;overflow: hidden;text-align: left;background-color: #f0f8ff;}#sk-container-id-10 div.sk-toggleable__content pre {margin: 0.2em;color: black;border-radius: 0.25em;background-color: #f0f8ff;}#sk-container-id-10 input.sk-toggleable__control:checked~div.sk-toggleable__content {max-height: 200px;max-width: 100%;overflow: auto;}#sk-container-id-10 input.sk-toggleable__control:checked~label.sk-toggleable__label-arrow:before {content: \"▾\";}#sk-container-id-10 div.sk-estimator input.sk-toggleable__control:checked~label.sk-toggleable__label {background-color: #d4ebff;}#sk-container-id-10 div.sk-label input.sk-toggleable__control:checked~label.sk-toggleable__label {background-color: #d4ebff;}#sk-container-id-10 input.sk-hidden--visually {border: 0;clip: rect(1px 1px 1px 1px);clip: rect(1px, 1px, 1px, 1px);height: 1px;margin: -1px;overflow: hidden;padding: 0;position: absolute;width: 1px;}#sk-container-id-10 div.sk-estimator {font-family: monospace;background-color: #f0f8ff;border: 1px dotted black;border-radius: 0.25em;box-sizing: border-box;margin-bottom: 0.5em;}#sk-container-id-10 div.sk-estimator:hover {background-color: #d4ebff;}#sk-container-id-10 div.sk-parallel-item::after {content: \"\";width: 100%;border-bottom: 1px solid gray;flex-grow: 1;}#sk-container-id-10 div.sk-label:hover label.sk-toggleable__label {background-color: #d4ebff;}#sk-container-id-10 div.sk-serial::before {content: \"\";position: absolute;border-left: 1px solid gray;box-sizing: border-box;top: 0;bottom: 0;left: 50%;z-index: 0;}#sk-container-id-10 div.sk-serial {display: flex;flex-direction: column;align-items: center;background-color: white;padding-right: 0.2em;padding-left: 0.2em;position: relative;}#sk-container-id-10 div.sk-item {position: relative;z-index: 1;}#sk-container-id-10 div.sk-parallel {display: flex;align-items: stretch;justify-content: center;background-color: white;position: relative;}#sk-container-id-10 div.sk-item::before, #sk-container-id-10 div.sk-parallel-item::before {content: \"\";position: absolute;border-left: 1px solid gray;box-sizing: border-box;top: 0;bottom: 0;left: 50%;z-index: -1;}#sk-container-id-10 div.sk-parallel-item {display: flex;flex-direction: column;z-index: 1;position: relative;background-color: white;}#sk-container-id-10 div.sk-parallel-item:first-child::after {align-self: flex-end;width: 50%;}#sk-container-id-10 div.sk-parallel-item:last-child::after {align-self: flex-start;width: 50%;}#sk-container-id-10 div.sk-parallel-item:only-child::after {width: 0;}#sk-container-id-10 div.sk-dashed-wrapped {border: 1px dashed gray;margin: 0 0.4em 0.5em 0.4em;box-sizing: border-box;padding-bottom: 0.4em;background-color: white;}#sk-container-id-10 div.sk-label label {font-family: monospace;font-weight: bold;display: inline-block;line-height: 1.2em;}#sk-container-id-10 div.sk-label-container {text-align: center;}#sk-container-id-10 div.sk-container {/* jupyter's `normalize.less` sets `[hidden] { display: none; }` but bootstrap.min.css set `[hidden] { display: none !important; }` so we also need the `!important` here to be able to override the default hidden behavior on the sphinx rendered scikit-learn.org. See: https://github.com/scikit-learn/scikit-learn/issues/21755 */display: inline-block !important;position: relative;}#sk-container-id-10 div.sk-text-repr-fallback {display: none;}</style><div id=\"sk-container-id-10\" class=\"sk-top-container\"><div class=\"sk-text-repr-fallback\"><pre>KNeighborsClassifier()</pre><b>In a Jupyter environment, please rerun this cell to show the HTML representation or trust the notebook. <br />On GitHub, the HTML representation is unable to render, please try loading this page with nbviewer.org.</b></div><div class=\"sk-container\" hidden><div class=\"sk-item\"><div class=\"sk-estimator sk-toggleable\"><input class=\"sk-toggleable__control sk-hidden--visually\" id=\"sk-estimator-id-10\" type=\"checkbox\" checked><label for=\"sk-estimator-id-10\" class=\"sk-toggleable__label sk-toggleable__label-arrow\">KNeighborsClassifier</label><div class=\"sk-toggleable__content\"><pre>KNeighborsClassifier()</pre></div></div></div></div></div>"
      ],
      "text/plain": [
       "KNeighborsClassifier()"
      ]
     },
     "execution_count": 68,
     "metadata": {},
     "output_type": "execute_result"
    }
   ],
   "source": [
    "#Training of KNN model\n",
    "KNN =KNeighborsClassifier(n_neighbors=5)\n",
    "KNN.fit(x_train_scale,y_train)"
   ]
  },
  {
   "cell_type": "code",
   "execution_count": 69,
   "id": "403de2c8",
   "metadata": {},
   "outputs": [],
   "source": [
    "#Make predictions on testing set\n",
    "y_predictions = KNN.predict(x_test_scale)"
   ]
  },
  {
   "cell_type": "code",
   "execution_count": 70,
   "id": "ea16d048",
   "metadata": {
    "scrolled": true
   },
   "outputs": [
    {
     "name": "stdout",
     "output_type": "stream",
     "text": [
      "accuracy 0.8579710144927536\n",
      "Confusion matrix:\n",
      " [[1245  162]\n",
      " [  83  235]]\n"
     ]
    }
   ],
   "source": [
    "#calulate accuracy and confusion matrix\n",
    "accuracy = accuracy_score (y_test, y_predictions)\n",
    "conf_matrix = confusion_matrix(y_test, y_predictions)\n",
    "\n",
    "print(\"accuracy\", accuracy)\n",
    "print(\"Confusion matrix:\\n\", conf_matrix) "
   ]
  },
  {
   "cell_type": "code",
   "execution_count": 71,
   "id": "cd312a1f",
   "metadata": {},
   "outputs": [
    {
     "data": {
      "text/plain": [
       "<Axes: xlabel='Predicted', ylabel='Actual'>"
      ]
     },
     "execution_count": 71,
     "metadata": {},
     "output_type": "execute_result"
    },
    {
     "data": {
      "image/png": "[encoded data removed]",
      "text/plain": [
       "<Figure size 640x480 with 2 Axes>"
      ]
     },
     "metadata": {},
     "output_type": "display_data"
    }
   ],
   "source": [
    "#Plot heatmap for the confusion matrix\n",
    "df4 = pd.DataFrame()\n",
    "\n",
    "# Create new columns within dataframe\n",
    "df4['Actual'] = y_test\n",
    "df4['Predicted'] = y_predictions\n",
    "\n",
    "# Use pd.crosstab to count the frequency of the classes in actual and predicted\n",
    "freq = pd.crosstab(df4.Actual,df4.Predicted)\n",
    "\n",
    "# Use sns.heatmap to plot the heatmap\n",
    "sns.heatmap(freq,annot=True,fmt=\"d\")"
   ]
  }
 ],
 "metadata": {
  "kernelspec": {
   "display_name": "Python 3 (ipykernel)",
   "language": "python",
   "name": "python3"
  },
  "language_info": {
   "codemirror_mode": {
    "name": "ipython",
    "version": 3
   },
   "file_extension": ".py",
   "mimetype": "text/x-python",
   "name": "python",
   "nbconvert_exporter": "python",
   "pygments_lexer": "ipython3",
   "version": "3.10.9"
  }
 },
 "nbformat": 4,
 "nbformat_minor": 5
}
